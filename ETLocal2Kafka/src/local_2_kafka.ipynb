{
 "cells": [
  {
   "cell_type": "code",
   "execution_count": 15,
   "metadata": {},
   "outputs": [],
   "source": [
    "import os\n",
    "from email_bot import EmailSenderBot\n",
    "import pandas as pd\n",
    "from kafka import KafkaProducer\n",
    "from tqdm import tqdm"
   ]
  },
  {
   "cell_type": "code",
   "execution_count": 16,
   "metadata": {},
   "outputs": [],
   "source": [
    "\"\"\"\n",
    "[\"../data/customer.csv\",\"../data/date.csv\",\"../data/product.csv\",\"../data/reseller.csv\",\"../data/sales.csv\",\"../data/sales_order.csv\",\"../data/sales_territory.csv\"]\n",
    "[\"prueba.customer\",\"prueba.date\",\"prueba.product\",\"prueba.reseller\",\"prueba.sales\",\"prueba.sales-order\",\"prueba.sales-terrritory\"]\n",
    "\"\"\"\n",
    "DATA_INPUT_FILES = [\"../data/date.csv\"]#[\"../data/date.csv\",\"../data/product.csv\",\"../data/reseller.csv\",\"../data/sales.csv\",\"../data/sales_order.csv\",\"../data/sales_territory.csv\"]\n",
    "KAFKA_SERVER = \"20.49.8.224:9092\"\n",
    "KAFKA_TOPICS = [\"prueba.date\"]#[\"prueba.date\",\"prueba.product\",\"prueba.reseller\",\"prueba.sales\",\"prueba.sales-order\",\"prueba.sales-terrritory\"]"
   ]
  },
  {
   "cell_type": "code",
   "execution_count": 17,
   "metadata": {},
   "outputs": [],
   "source": [
    "producer = KafkaProducer(bootstrap_servers = [KAFKA_SERVER])"
   ]
  },
  {
   "cell_type": "code",
   "execution_count": 18,
   "metadata": {},
   "outputs": [],
   "source": [
    "sender_bot = EmailSenderBot()\n",
    "sender_bot.set_mail_receptor(\"santiago.puerta@quind.io\")"
   ]
  },
  {
   "cell_type": "code",
   "execution_count": 19,
   "metadata": {},
   "outputs": [],
   "source": [
    "def send_2_kafka(input_data_path:str, kafka_topic_name:str) -> int:\n",
    "    #me aseguro de que el archivo si existe\n",
    "    assert os.path.exists(input_data_path), \"El path al archivo de datos de entrada es erroneo, o el archivo no existe.\"\n",
    "    file = os.path.splitext(input_data_path)\n",
    "    #me aseguro de que la extension del archivo es CSV\n",
    "    assert file[1] == \".csv\", f\"El archivo {file[0]} debe de ser de extension CSV.\"\n",
    "    try:\n",
    "        df = pd.read_csv(input_data_path)\n",
    "        print(df.iloc[0:3])\n",
    "        total_data = len(df) #total de datos a cargar en el topico\n",
    "        progress_bar = tqdm(total=total_data, desc=f\"Loading to {kafka_topic_name} topic\")\n",
    "        for _,row in df.iterrows():\n",
    "            message = row.to_json()\n",
    "            producer.send(kafka_topic_name, value=message.encode())\n",
    "            producer.flush() #asegurarse de que todos los datos hayan sido escritos\n",
    "            progress_bar.update(1)\n",
    "        sender_bot.struct_message(\n",
    "            email_subject=f\"Topico: {kafka_topic_name} cargado exitosamente.\",\n",
    "            body = f\"Se han cargado exitosamente {total_data} datos a el topico {kafka_topic_name} de kafka.\"\n",
    "        )\n",
    "        sender_bot.send()\n",
    "        return 0\n",
    "    except ValueError as error:\n",
    "        sender_bot.struct_message(\n",
    "            email_subject=f\"Error cargando datos al topico {kafka_topic_name}.\",\n",
    "            body = f\"Error: {error} cargando datos al topico {kafka_topic_name} de kafka.\"\n",
    "        )\n",
    "        sender_bot.send()\n",
    "        print(error)\n",
    "        return 1"
   ]
  },
  {
   "cell_type": "code",
   "execution_count": 20,
   "metadata": {},
   "outputs": [],
   "source": [
    "def main():\n",
    "    assert len(DATA_INPUT_FILES) == len(KAFKA_TOPICS), \"Deben de haber tantos topicos como archivos de entrada hallan.\"\n",
    "    for data_file, kafka_topic in zip(DATA_INPUT_FILES,KAFKA_TOPICS):\n",
    "        send_2_kafka(\n",
    "            input_data_path=data_file,\n",
    "            kafka_topic_name=kafka_topic,\n",
    "        )\n",
    "    producer.close() #cierro conexion con el productor"
   ]
  },
  {
   "cell_type": "code",
   "execution_count": 21,
   "metadata": {},
   "outputs": [
    {
     "name": "stdout",
     "output_type": "stream",
     "text": [
      "    DateKey        Date FiscalYear FiscalQuarter     Month      FullDate  \\\n",
      "0  20170701  01/07/2017     FY2018     FY2018 Q1  2017 Jul  2017 Jul, 01   \n",
      "1  20170702  02/07/2017     FY2018     FY2018 Q1  2017 Jul  2017 Jul, 02   \n",
      "2  20170703  03/07/2017     FY2018     FY2018 Q1  2017 Jul  2017 Jul, 03   \n",
      "\n",
      "   MonthKey  \n",
      "0    201707  \n",
      "1    201707  \n",
      "2    201707  \n"
     ]
    },
    {
     "name": "stderr",
     "output_type": "stream",
     "text": [
      "Loading to prueba.date topic: 100%|██████████| 1461/1461 [02:01<00:00, 11.98it/s]\n"
     ]
    }
   ],
   "source": [
    "if __name__ == \"__main__\":\n",
    "    main()"
   ]
  }
 ],
 "metadata": {
  "kernelspec": {
   "display_name": "venv",
   "language": "python",
   "name": "python3"
  },
  "language_info": {
   "codemirror_mode": {
    "name": "ipython",
    "version": 3
   },
   "file_extension": ".py",
   "mimetype": "text/x-python",
   "name": "python",
   "nbconvert_exporter": "python",
   "pygments_lexer": "ipython3",
   "version": "3.9.5"
  },
  "orig_nbformat": 4
 },
 "nbformat": 4,
 "nbformat_minor": 2
}
