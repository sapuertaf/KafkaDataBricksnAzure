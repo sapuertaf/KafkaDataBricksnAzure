{
 "cells": [
  {
   "cell_type": "code",
   "execution_count": 21,
   "metadata": {},
   "outputs": [],
   "source": [
    "import os\n",
    "import pandas as pd\n",
    "from kafka import KafkaProducer\n",
    "from tqdm import tqdm"
   ]
  },
  {
   "cell_type": "code",
   "execution_count": 22,
   "metadata": {},
   "outputs": [],
   "source": [
    "DATA_INPUT_FILES = [\"../data/customer.csv\"]#,\"../data/date.csv\",\"../data/product.csv\",\"../data/reseller.csv\",\"../data/sales.csv\",\"../data/sales_order.csv\",\"../data/sales_territory.csv\"]\n",
    "KAFKA_SERVER = \"20.109.88.59:9092\"\n",
    "KAFKA_TOPICS = [\"prueba.customer\"]#,\"prueba.date\",\"prueba.product\",\"prueba.reseller\",\"prueba.sales\",\"prueba.sales-order\",\"prueba.sales-terrritory\"]"
   ]
  },
  {
   "cell_type": "code",
   "execution_count": 23,
   "metadata": {},
   "outputs": [],
   "source": [
    "producer = KafkaProducer(bootstrap_servers = [KAFKA_SERVER])"
   ]
  },
  {
   "cell_type": "code",
   "execution_count": 24,
   "metadata": {},
   "outputs": [],
   "source": [
    "def send_2_kafka(input_data_path:str, kafka_topic_name:str) -> int:\n",
    "    #me aseguro de que el archivo si existe\n",
    "    assert os.path.exists(input_data_path), \"El path al archivo de datos de entrada es erroneo, o el archivo no existe.\"\n",
    "    file = os.path.splitext(input_data_path)\n",
    "    #me aseguro de que la extension del archivo es CSV\n",
    "    assert file[1] == \".csv\", f\"El archivo {file[0]} debe de ser de extension CSV.\"\n",
    "    try:\n",
    "        df = pd.read_csv(input_data_path)\n",
    "        print(df.iloc[0:3])\n",
    "        progress_bar = tqdm(total=len(df), desc=f\"Loading to {kafka_topic_name} topic\")\n",
    "        for _,row in df.iterrows():\n",
    "            message = row.to_json()\n",
    "            producer.send(kafka_topic_name, value=message.encode())\n",
    "            producer.flush() #asegurarse de que todos los datos hayan sido escritos\n",
    "            progress_bar.update(1)\n",
    "        producer.close()\n",
    "        return 0\n",
    "    except ValueError as error:\n",
    "        print(error)\n",
    "        return 1"
   ]
  },
  {
   "cell_type": "code",
   "execution_count": 25,
   "metadata": {},
   "outputs": [],
   "source": [
    "def main():\n",
    "    #assert len(DATA_INPUT_FILES) == len(KAFKA_TOPICS), \"Deben de haber tantos topicos como archivos de entrada hallan.\"\n",
    "    for data_file, kafka_topic in zip(DATA_INPUT_FILES,KAFKA_TOPICS):\n",
    "        send_2_kafka(\n",
    "            input_data_path=data_file,\n",
    "            kafka_topic_name=kafka_topic,\n",
    "        )"
   ]
  },
  {
   "cell_type": "code",
   "execution_count": null,
   "metadata": {},
   "outputs": [
    {
     "name": "stderr",
     "output_type": "stream",
     "text": [
      "Loading to prueba.customer topic:  18%|█▊        | 3367/18485 [04:50<20:39, 12.20it/s]"
     ]
    }
   ],
   "source": [
    "if __name__ == \"__main__\":\n",
    "    main()"
   ]
  }
 ],
 "metadata": {
  "kernelspec": {
   "display_name": "venv",
   "language": "python",
   "name": "python3"
  },
  "language_info": {
   "codemirror_mode": {
    "name": "ipython",
    "version": 3
   },
   "file_extension": ".py",
   "mimetype": "text/x-python",
   "name": "python",
   "nbconvert_exporter": "python",
   "pygments_lexer": "ipython3",
   "version": "3.9.5"
  },
  "orig_nbformat": 4
 },
 "nbformat": 4,
 "nbformat_minor": 2
}
