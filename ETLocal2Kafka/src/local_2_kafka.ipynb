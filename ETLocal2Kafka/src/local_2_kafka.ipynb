{
 "cells": [
  {
   "cell_type": "code",
   "execution_count": 1,
   "metadata": {},
   "outputs": [],
   "source": [
    "import os\n",
    "import pandas as pd\n",
    "from kafka import KafkaProducer"
   ]
  },
  {
   "cell_type": "code",
   "execution_count": 5,
   "metadata": {},
   "outputs": [],
   "source": [
    "#variables globales a ser usadas por el programa\n",
    "DATA_INPUT_FILES = [\"../data/input/customer.csv\",\"../data/input/date.csv\",\"../data/input/product.csv\",\"../data/input/reseller.csv\",\"../data/input/sales.csv\",\"../data/input/sales_order.csv\",\"../data/input/sales_territory.csv\"]\n",
    "VM_PUBLIC_IP = \"\"\n",
    "KAFKA_SERVER_IP = f\"{VM_PUBLIC_IP}:9092\"\n",
    "PROJECTS_NAME = \"prueba\"\n",
    "KAFKA_TOPIC_NAME = [f\"{PROJECTS_NAME}.customer\",f\"{PROJECTS_NAME}.date\",f\"{PROJECTS_NAME}.product\",f\"{PROJECTS_NAME}.reseller\",f\"{PROJECTS_NAME}.sales\",f\"{PROJECTS_NAME}.sales-order\",f\"{PROJECTS_NAME}.sales-territory\"]"
   ]
  },
  {
   "cell_type": "code",
   "execution_count": null,
   "metadata": {},
   "outputs": [],
   "source": [
    "#inicializo la conexion con el productor de kafka\n",
    "kafka_producer = KafkaProducer(bootstrap_servers=KAFKA_SERVER_IP)"
   ]
  },
  {
   "cell_type": "code",
   "execution_count": 16,
   "metadata": {},
   "outputs": [],
   "source": [
    "def data_2_kafka(input_data_path:str, kafka_topic_name:str) -> int:\n",
    "    \"\"\"Leer una url de datos de entrada los cuales deben de ser CSV y enviarlos al topico de kafka\n",
    "\n",
    "    Args:\n",
    "        input_data_path (str): _description_\n",
    "        kafka_topic_name (str): _description_\n",
    "\n",
    "    Returns:\n",
    "        int: _description_\n",
    "    \"\"\"\n",
    "    try:\n",
    "        #me aseguro de que el archivo si existe\n",
    "        assert os.path.exists(input_data_path), \"El path al archivo de datos de entrada es erroneo, o el archivo no existe.\"\n",
    "        file = os.path.splitext(input_data_path)\n",
    "        assert file[1] == \".csv\", f\"El archivo {file[0]} debe de ser de extension CSV.\"\n",
    "        df = pd.read_csv(input_data_path)\n",
    "        json_message = df.to_json(orient=\"records\") #cada fila del df se convierte en un JSON independiente\n",
    "        #kafka_producer.send(kafka_topic_name, json_message.encode('utf-8'))\n",
    "        return 0\n",
    "    except Exception as error:\n",
    "        print(error)\n",
    "        return 1"
   ]
  },
  {
   "cell_type": "code",
   "execution_count": 14,
   "metadata": {},
   "outputs": [],
   "source": [
    "def main():\n",
    "    assert len(DATA_INPUT_FILES) == len(KAFKA_TOPIC_NAME), \"Deben de haber tantos topicos como archivos de entrada hallan.\"\n",
    "    for data_file, kafka_topic in zip(DATA_INPUT_FILES,KAFKA_TOPIC_NAME):\n",
    "        data_2_kafka(\n",
    "            input_data_path=data_file,\n",
    "            kafka_topic_name=kafka_topic,\n",
    "        )"
   ]
  },
  {
   "cell_type": "code",
   "execution_count": null,
   "metadata": {},
   "outputs": [],
   "source": [
    "if __name__ == \"__main__\":\n",
    "    main()"
   ]
  }
 ],
 "metadata": {
  "kernelspec": {
   "display_name": "Python 3",
   "language": "python",
   "name": "python3"
  },
  "language_info": {
   "codemirror_mode": {
    "name": "ipython",
    "version": 3
   },
   "file_extension": ".py",
   "mimetype": "text/x-python",
   "name": "python",
   "nbconvert_exporter": "python",
   "pygments_lexer": "ipython3",
   "version": "3.9.5"
  },
  "orig_nbformat": 4
 },
 "nbformat": 4,
 "nbformat_minor": 2
}
