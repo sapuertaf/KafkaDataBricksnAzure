{
 "cells": [
  {
   "cell_type": "code",
   "execution_count": 1,
   "metadata": {},
   "outputs": [],
   "source": [
    "import tables_configs \n",
    "from pyspark.sql import DataFrame as SparkDataFrame\n",
    "from pyspark.sql import SparkSession\n",
    "from pyspark.sql.types import StructType, StringType, IntegerType, DoubleType\n",
    "from pyspark.sql.functions import regexp_replace, col"
   ]
  },
  {
   "cell_type": "code",
   "execution_count": 2,
   "metadata": {},
   "outputs": [],
   "source": [
    "spark = SparkSession.builder\\\n",
    "                    .getOrCreate()"
   ]
  },
  {
   "cell_type": "code",
   "execution_count": 3,
   "metadata": {},
   "outputs": [],
   "source": [
    "sales_schema = StructType()\\\n",
    "               .add(\"SalesOrderLineKey\",IntegerType())\\\n",
    "               .add(\"ResellerKey\",IntegerType())\\\n",
    "               .add(\"CustomerKey\",IntegerType())\\\n",
    "               .add(\"ProductKey\",IntegerType())\\\n",
    "               .add(\"OrderDateKey\",IntegerType())\\\n",
    "               .add(\"DueDateKey\",IntegerType())\\\n",
    "               .add(\"ShipDateKey\",IntegerType())\\\n",
    "               .add(\"SalesTerritoryKey\",IntegerType())\\\n",
    "               .add(\"OrderQuantity\",IntegerType())\\\n",
    "               .add(\"UnitPrice\",StringType())\\\n",
    "               .add(\"ExtendedAmount\",StringType())\\\n",
    "               .add(\"UnitPriceDiscountPct\",StringType())\\\n",
    "               .add(\"ProductStandardCost\",StringType())\\\n",
    "               .add(\"TotalProductCost\",StringType())\\\n",
    "               .add(\"SalesAmount\",StringType())"
   ]
  },
  {
   "cell_type": "code",
   "execution_count": 5,
   "metadata": {},
   "outputs": [],
   "source": [
    "sales_df = spark.read\\\n",
    "                .csv(\"C:\\\\Users\\\\Admin\\\\Desktop\\\\KafkaPipeline\\\\ETLocal2Kafka\\\\data\\\\sales.csv\", header = True, inferSchema = False, schema = sales_schema)"
   ]
  },
  {
   "cell_type": "code",
   "execution_count": 7,
   "metadata": {},
   "outputs": [],
   "source": [
    "def get_columns_2_transform(table_name:str, columns_2_transform_type:str) -> list:\n",
    "    \"\"\"_summary_\n",
    "\n",
    "    Args:\n",
    "        table_name (str): _description_\n",
    "        columns_2_transform_type (str): _description_\n",
    "\n",
    "    Returns:\n",
    "        list: _description_\n",
    "\n",
    "    Example:\n",
    "    >>> get_columns_2_transform(\"sales\",\"price\")\n",
    "            [('ExtendedAmount', 'price'),\n",
    "             ('UnitPrice', 'price'),\n",
    "             ('TotalProductCost', 'price'),\n",
    "             ('SalesAmount', 'price')]\n",
    "    \"\"\"\n",
    "    # me aseguro de que la tabla tenga configurada variables globales\n",
    "    assert tables_configs.global_confs[table_name], f\"{table_name} does not exists in global confs.\"\n",
    "    assert columns_2_transform_type in tables_configs.columns_types_2_transform, f\"{columns_2_transform_type} type not in tables_config allowed types\"\n",
    "    return list(filter(lambda x:x[1] == columns_2_transform_type,tables_configs.global_confs[table_name].items()))\n",
    "    \n",
    "\n",
    "\n",
    "def transform_prices_2_numeric(df:SparkDataFrame, table_name:str) -> SparkDataFrame:\n",
    "    columns_2_transform = list(map(\n",
    "        lambda x: x[0],\n",
    "        get_columns_2_transform(table_name,\"price\")\n",
    "    ))\n",
    "    # checkeo que las columnas retornadas si esten en el dataframe\n",
    "    assert len(set(columns_2_transform) - set(df.columns)) == 0, f\"Mismatch between df columns and global {table_name} columns\" \n",
    "    for column in columns_2_transform:\n",
    "        df = df.withColumn(\n",
    "            column,\n",
    "            regexp_replace(\n",
    "                regexp_replace(col(column), \"[$.]\", \"\"), \"[,]\",\".\"\n",
    "            ).alias(column).cast(\"float\")\n",
    "        )\n",
    "    return df\n",
    "\n",
    "\n",
    "\n",
    "def transform_percentages_2_numeric(df, table_name):\n",
    "    columns_2_transform = list(map(\n",
    "        lambda x: x[0],\n",
    "        get_columns_2_transform(table_name,\"percentage\")\n",
    "    ))\n",
    "    # checkeo que las columnas retornadas si esten en el dataframe\n",
    "    assert len(set(columns_2_transform) - set(df.columns)) == 0, f\"Mismatch between df columns and global {table_name} columns\"\n",
    "    for column in columns_2_transform:\n",
    "        df = df.withColumn(\n",
    "            column,\n",
    "            regexp_replace(\n",
    "                regexp_replace(col(column), \"[%]\", \"\"), \"[,]\",\".\"\n",
    "            ).alias(column).cast(\"float\")\n",
    "        )\n",
    "    return df \n",
    "\n",
    "\n",
    "\n",
    "clean_sales = transform_prices_2_numeric(sales_df,\"sales\")\n",
    "clean_sales = transform_percentages_2_numeric(clean_sales, \"sales\")"
   ]
  },
  {
   "cell_type": "code",
   "execution_count": 8,
   "metadata": {},
   "outputs": [
    {
     "name": "stdout",
     "output_type": "stream",
     "text": [
      "+-----------------+-----------+-----------+----------+------------+----------+-----------+-----------------+-------------+---------+--------------+--------------------+-------------------+----------------+-----------+\n",
      "|SalesOrderLineKey|ResellerKey|CustomerKey|ProductKey|OrderDateKey|DueDateKey|ShipDateKey|SalesTerritoryKey|OrderQuantity|UnitPrice|ExtendedAmount|UnitPriceDiscountPct|ProductStandardCost|TotalProductCost|SalesAmount|\n",
      "+-----------------+-----------+-----------+----------+------------+----------+-----------+-----------------+-------------+---------+--------------+--------------------+-------------------+----------------+-----------+\n",
      "|         43659001|        676|         -1|       349|    20170702|  20170712|   20170709|                5|            1|  2024.99|       2024.99|                 0.0|            1898.09|         1898.09|    2024.99|\n",
      "|         43659002|        676|         -1|       350|    20170702|  20170712|   20170709|                5|            3|  2024.99|       6074.98|                 0.0|            1898.09|         5694.28|    6074.98|\n",
      "|         43659003|        676|         -1|       351|    20170702|  20170712|   20170709|                5|            1|  2024.99|       2024.99|                 0.0|            1898.09|         1898.09|    2024.99|\n",
      "|         43659004|        676|         -1|       344|    20170702|  20170712|   20170709|                5|            1|  2039.99|       2039.99|                 0.0|            1912.15|         1912.15|    2039.99|\n",
      "|         43659005|        676|         -1|       345|    20170702|  20170712|   20170709|                5|            1|  2039.99|       2039.99|                 0.0|            1912.15|         1912.15|    2039.99|\n",
      "|         43659006|        676|         -1|       346|    20170702|  20170712|   20170709|                5|            2|  2039.99|       4079.99|                 0.0|            1912.15|         3824.31|    4079.99|\n",
      "|         43659007|        676|         -1|       347|    20170702|  20170712|   20170709|                5|            1|  2039.99|       2039.99|                 0.0|            1912.15|         1912.15|    2039.99|\n",
      "|         43659008|        676|         -1|       229|    20170702|  20170712|   20170709|                5|            3|    28.84|         86.52|                 0.0|              31.72|           95.17|      86.52|\n",
      "|         43659009|        676|         -1|       235|    20170702|  20170712|   20170709|                5|            1|    28.84|         28.84|                 0.0|              31.72|           31.72|      28.84|\n",
      "|         43659010|        676|         -1|       218|    20170702|  20170712|   20170709|                5|            6|      5.7|          34.2|                 0.0|                3.4|           20.38|       34.2|\n",
      "|         43659011|        676|         -1|       223|    20170702|  20170712|   20170709|                5|            2|     5.19|         10.37|                 0.0|               5.71|           11.41|      10.37|\n",
      "|         43659012|        676|         -1|       220|    20170702|  20170712|   20170709|                5|            4|    20.19|         80.75|                 0.0|              12.03|           48.11|      80.75|\n",
      "|         43660001|        117|         -1|       326|    20170705|  20170715|   20170712|                5|            1|   419.46|        419.46|                 0.0|             413.15|          413.15|     419.46|\n",
      "|         43660002|        117|         -1|       319|    20170705|  20170715|   20170712|                5|            1|   874.79|        874.79|                 0.0|             884.71|          884.71|     874.79|\n",
      "|         43661001|        442|         -1|       300|    20170705|  20170715|   20170712|                6|            1|   809.76|        809.76|                 0.0|             699.09|          699.09|     809.76|\n",
      "|         43661002|        442|         -1|       296|    20170705|  20170715|   20170712|                6|            1|    714.7|         714.7|                 0.0|             617.03|          617.03|      714.7|\n",
      "|         43661003|        442|         -1|       304|    20170705|  20170715|   20170712|                6|            2|    714.7|       1429.41|                 0.0|             617.03|         1234.06|    1429.41|\n",
      "|         43661004|        442|         -1|       223|    20170705|  20170715|   20170712|                6|            4|     5.19|         20.75|                 0.0|               5.71|           22.82|      20.75|\n",
      "|         43661005|        442|         -1|       232|    20170705|  20170715|   20170712|                6|            4|    28.84|        115.36|                 0.0|              31.72|           126.9|     115.36|\n",
      "|         43661006|        442|         -1|       293|    20170705|  20170715|   20170712|                6|            2|   722.59|       1445.19|                 0.0|             623.84|         1247.68|    1445.19|\n",
      "+-----------------+-----------+-----------+----------+------------+----------+-----------+-----------------+-------------+---------+--------------+--------------------+-------------------+----------------+-----------+\n",
      "only showing top 20 rows\n",
      "\n"
     ]
    }
   ],
   "source": [
    "clean_sales.show()"
   ]
  }
 ],
 "metadata": {
  "kernelspec": {
   "display_name": "venv",
   "language": "python",
   "name": "python3"
  },
  "language_info": {
   "codemirror_mode": {
    "name": "ipython",
    "version": 3
   },
   "file_extension": ".py",
   "mimetype": "text/x-python",
   "name": "python",
   "nbconvert_exporter": "python",
   "pygments_lexer": "ipython3",
   "version": "3.9.5"
  },
  "orig_nbformat": 4
 },
 "nbformat": 4,
 "nbformat_minor": 2
}
