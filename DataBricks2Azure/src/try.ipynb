{
 "cells": [
  {
   "cell_type": "code",
   "execution_count": 6,
   "metadata": {},
   "outputs": [],
   "source": [
    "import tables_configs \n",
    "from pyspark.sql import SparkSession\n",
    "from pyspark.sql.types import StructType, StringType, IntegerType, DoubleType\n",
    "from pyspark.sql.functions import regexp_replace, col"
   ]
  },
  {
   "cell_type": "code",
   "execution_count": 4,
   "metadata": {},
   "outputs": [],
   "source": [
    "spark = SparkSession.builder\\\n",
    "                    .getOrCreate()"
   ]
  },
  {
   "cell_type": "code",
   "execution_count": 9,
   "metadata": {},
   "outputs": [],
   "source": [
    "sales_schema = StructType()\\\n",
    "               .add(\"SalesOrderLineKey\",IntegerType())\\\n",
    "               .add(\"ResellerKey\",IntegerType())\\\n",
    "               .add(\"CustomerKey\",IntegerType())\\\n",
    "               .add(\"ProductKey\",IntegerType())\\\n",
    "               .add(\"OrderDateKey\",IntegerType())\\\n",
    "               .add(\"DueDateKey\",IntegerType())\\\n",
    "               .add(\"ShipDateKey\",IntegerType())\\\n",
    "               .add(\"SalesTerritoryKey\",IntegerType())\\\n",
    "               .add(\"OrderQuantity\",IntegerType())\\\n",
    "               .add(\"UnitPrice\",StringType())\\\n",
    "               .add(\"ExtendedAmount\",StringType())\\\n",
    "               .add(\"UnitPriceDiscountPct\",StringType())\\\n",
    "               .add(\"ProductStandardCost\",StringType())\\\n",
    "               .add(\"TotalProductCost\",StringType())\\\n",
    "               .add(\"SalesAmount\",StringType())"
   ]
  },
  {
   "cell_type": "code",
   "execution_count": 15,
   "metadata": {},
   "outputs": [],
   "source": [
    "sales_df = spark.read\\\n",
    "                .csv(\"C:\\\\Users\\\\Admin\\\\Desktop\\\\KafkaPipeline\\\\ETLocal2Kafka\\\\data\\\\sales.csv\", header = True, inferSchema = False, schema = sales_schema)"
   ]
  },
  {
   "cell_type": "code",
   "execution_count": 44,
   "metadata": {},
   "outputs": [],
   "source": [
    "clean_df = sales_df.withColumn(\n",
    "    \"UnitPrice\",\n",
    "    regexp_replace(\n",
    "        regexp_replace(col(\"UnitPrice\"), \"[$.]\", \"\"), \"[,]\",\".\"\n",
    "    ).alias(\"UnitPrice\").cast(\"float\")\n",
    ") "
   ]
  },
  {
   "cell_type": "code",
   "execution_count": 8,
   "metadata": {},
   "outputs": [],
   "source": [
    "def get_columns_2_transform(table_name:str, columns_2_transform_type:str) -> list:\n",
    "    \"\"\"_summary_\n",
    "\n",
    "    Args:\n",
    "        table_name (str): _description_\n",
    "        columns_2_transform_type (str): _description_\n",
    "\n",
    "    Returns:\n",
    "        list: _description_\n",
    "\n",
    "    Example:\n",
    "    >>> get_columns_2_transform(\"sales\",\"price\")\n",
    "            [('ExtendedAmount', 'price'),\n",
    "             ('UnitPrice', 'price'),\n",
    "             ('TotalProductCost', 'price'),\n",
    "             ('SalesAmount', 'price')]\n",
    "    \"\"\"\n",
    "    # me aseguro de que la tabla tenga configurada variables globales\n",
    "    assert tables_configs.global_confs[table_name], f\"{table_name} does not exists in global confs.\"\n",
    "    assert columns_2_transform_type in tables_configs.columns_types_2_transform, \"\"\n",
    "    return list(filter(lambda x:x[1] == columns_2_transform_type,tables_configs.global_confs[table_name].items()))\n",
    "    \n",
    "\n",
    "\n",
    "def transform_prices_2_numeric(df, table_name):\n",
    "    def get_price_columns(table_name:str) -> list:\n",
    "        \"\"\"_summary_\n",
    "\n",
    "        Args:\n",
    "            table_name (str): _description_\n",
    "\n",
    "        Returns:\n",
    "            list: _description_\n",
    "\n",
    "        Example:\n",
    "            >>> get_price_columns(\"sales\")\n",
    "            [('ExtendedAmount', 'price'),\n",
    "             ('UnitPrice', 'price'),\n",
    "             ('TotalProductCost', 'price'),\n",
    "             ('SalesAmount', 'price')]\n",
    "        \"\"\"\n",
    "        return list(filter(lambda x:x[1] == \"price\",global_confs[table_name].items()))\n",
    "    price_columns_2_transform = filter(lambda x:x == \"price\",global_confs[table_name])"
   ]
  },
  {
   "cell_type": "code",
   "execution_count": 9,
   "metadata": {},
   "outputs": [
    {
     "data": {
      "text/plain": [
       "dict_items([('ExtendedAmount', 'price'), ('UnitPrice', 'price'), ('ProductStandardCost', 'Price'), ('TotalProductCost', 'price'), ('SalesAmount', 'price'), ('UnitPriceDiscountPct', 'percentage')])"
      ]
     },
     "execution_count": 9,
     "metadata": {},
     "output_type": "execute_result"
    }
   ],
   "source": [
    "global_confs[\"sales\"].items()"
   ]
  },
  {
   "cell_type": "code",
   "execution_count": 17,
   "metadata": {},
   "outputs": [
    {
     "data": {
      "text/plain": [
       "[('ExtendedAmount', 'price'),\n",
       " ('UnitPrice', 'price'),\n",
       " ('TotalProductCost', 'price'),\n",
       " ('SalesAmount', 'price')]"
      ]
     },
     "execution_count": 17,
     "metadata": {},
     "output_type": "execute_result"
    }
   ],
   "source": [
    "list(filter(lambda x:x[1] == \"price\",global_confs[\"sales\"].items()))"
   ]
  },
  {
   "cell_type": "code",
   "execution_count": 45,
   "metadata": {},
   "outputs": [
    {
     "name": "stdout",
     "output_type": "stream",
     "text": [
      "+-----------------+-----------+-----------+----------+------------+----------+-----------+-----------------+-------------+---------+--------------+--------------------+-------------------+----------------+-----------+\n",
      "|SalesOrderLineKey|ResellerKey|CustomerKey|ProductKey|OrderDateKey|DueDateKey|ShipDateKey|SalesTerritoryKey|OrderQuantity|UnitPrice|ExtendedAmount|UnitPriceDiscountPct|ProductStandardCost|TotalProductCost|SalesAmount|\n",
      "+-----------------+-----------+-----------+----------+------------+----------+-----------+-----------------+-------------+---------+--------------+--------------------+-------------------+----------------+-----------+\n",
      "|         43659001|        676|         -1|       349|    20170702|  20170712|   20170709|                5|            1|  2024.99|     $2.024,99|               0,00%|          $1.898,09|       $1.898,09|  $2.024,99|\n",
      "|         43659002|        676|         -1|       350|    20170702|  20170712|   20170709|                5|            3|  2024.99|     $6.074,98|               0,00%|          $1.898,09|       $5.694,28|  $6.074,98|\n",
      "|         43659003|        676|         -1|       351|    20170702|  20170712|   20170709|                5|            1|  2024.99|     $2.024,99|               0,00%|          $1.898,09|       $1.898,09|  $2.024,99|\n",
      "|         43659004|        676|         -1|       344|    20170702|  20170712|   20170709|                5|            1|  2039.99|     $2.039,99|               0,00%|          $1.912,15|       $1.912,15|  $2.039,99|\n",
      "|         43659005|        676|         -1|       345|    20170702|  20170712|   20170709|                5|            1|  2039.99|     $2.039,99|               0,00%|          $1.912,15|       $1.912,15|  $2.039,99|\n",
      "|         43659006|        676|         -1|       346|    20170702|  20170712|   20170709|                5|            2|  2039.99|     $4.079,99|               0,00%|          $1.912,15|       $3.824,31|  $4.079,99|\n",
      "|         43659007|        676|         -1|       347|    20170702|  20170712|   20170709|                5|            1|  2039.99|     $2.039,99|               0,00%|          $1.912,15|       $1.912,15|  $2.039,99|\n",
      "|         43659008|        676|         -1|       229|    20170702|  20170712|   20170709|                5|            3|    28.84|        $86,52|               0,00%|             $31,72|          $95,17|     $86,52|\n",
      "|         43659009|        676|         -1|       235|    20170702|  20170712|   20170709|                5|            1|    28.84|        $28,84|               0,00%|             $31,72|          $31,72|     $28,84|\n",
      "|         43659010|        676|         -1|       218|    20170702|  20170712|   20170709|                5|            6|      5.7|        $34,20|               0,00%|              $3,40|          $20,38|     $34,20|\n",
      "|         43659011|        676|         -1|       223|    20170702|  20170712|   20170709|                5|            2|     5.19|        $10,37|               0,00%|              $5,71|          $11,41|     $10,37|\n",
      "|         43659012|        676|         -1|       220|    20170702|  20170712|   20170709|                5|            4|    20.19|        $80,75|               0,00%|             $12,03|          $48,11|     $80,75|\n",
      "|         43660001|        117|         -1|       326|    20170705|  20170715|   20170712|                5|            1|   419.46|       $419,46|               0,00%|            $413,15|         $413,15|    $419,46|\n",
      "|         43660002|        117|         -1|       319|    20170705|  20170715|   20170712|                5|            1|   874.79|       $874,79|               0,00%|            $884,71|         $884,71|    $874,79|\n",
      "|         43661001|        442|         -1|       300|    20170705|  20170715|   20170712|                6|            1|   809.76|       $809,76|               0,00%|            $699,09|         $699,09|    $809,76|\n",
      "|         43661002|        442|         -1|       296|    20170705|  20170715|   20170712|                6|            1|    714.7|       $714,70|               0,00%|            $617,03|         $617,03|    $714,70|\n",
      "|         43661003|        442|         -1|       304|    20170705|  20170715|   20170712|                6|            2|    714.7|     $1.429,41|               0,00%|            $617,03|       $1.234,06|  $1.429,41|\n",
      "|         43661004|        442|         -1|       223|    20170705|  20170715|   20170712|                6|            4|     5.19|        $20,75|               0,00%|              $5,71|          $22,82|     $20,75|\n",
      "|         43661005|        442|         -1|       232|    20170705|  20170715|   20170712|                6|            4|    28.84|       $115,36|               0,00%|             $31,72|         $126,90|    $115,36|\n",
      "|         43661006|        442|         -1|       293|    20170705|  20170715|   20170712|                6|            2|   722.59|     $1.445,19|               0,00%|            $623,84|       $1.247,68|  $1.445,19|\n",
      "+-----------------+-----------+-----------+----------+------------+----------+-----------+-----------------+-------------+---------+--------------+--------------------+-------------------+----------------+-----------+\n",
      "only showing top 20 rows\n",
      "\n"
     ]
    }
   ],
   "source": [
    "clean_df.show()"
   ]
  },
  {
   "cell_type": "code",
   "execution_count": 20,
   "metadata": {},
   "outputs": [
    {
     "name": "stdout",
     "output_type": "stream",
     "text": [
      "+-----------------+-----------+-----------+----------+------------+----------+-----------+-----------------+-------------+---------+--------------+--------------------+-------------------+----------------+-----------+\n",
      "|SalesOrderLineKey|ResellerKey|CustomerKey|ProductKey|OrderDateKey|DueDateKey|ShipDateKey|SalesTerritoryKey|OrderQuantity|UnitPrice|ExtendedAmount|UnitPriceDiscountPct|ProductStandardCost|TotalProductCost|SalesAmount|\n",
      "+-----------------+-----------+-----------+----------+------------+----------+-----------+-----------------+-------------+---------+--------------+--------------------+-------------------+----------------+-----------+\n",
      "|         43659001|        676|         -1|       349|    20170702|  20170712|   20170709|                5|            1|$2.024,99|     $2.024,99|               0,00%|          $1.898,09|       $1.898,09|  $2.024,99|\n",
      "|         43659002|        676|         -1|       350|    20170702|  20170712|   20170709|                5|            3|$2.024,99|     $6.074,98|               0,00%|          $1.898,09|       $5.694,28|  $6.074,98|\n",
      "|         43659003|        676|         -1|       351|    20170702|  20170712|   20170709|                5|            1|$2.024,99|     $2.024,99|               0,00%|          $1.898,09|       $1.898,09|  $2.024,99|\n",
      "|         43659004|        676|         -1|       344|    20170702|  20170712|   20170709|                5|            1|$2.039,99|     $2.039,99|               0,00%|          $1.912,15|       $1.912,15|  $2.039,99|\n",
      "|         43659005|        676|         -1|       345|    20170702|  20170712|   20170709|                5|            1|$2.039,99|     $2.039,99|               0,00%|          $1.912,15|       $1.912,15|  $2.039,99|\n",
      "|         43659006|        676|         -1|       346|    20170702|  20170712|   20170709|                5|            2|$2.039,99|     $4.079,99|               0,00%|          $1.912,15|       $3.824,31|  $4.079,99|\n",
      "|         43659007|        676|         -1|       347|    20170702|  20170712|   20170709|                5|            1|$2.039,99|     $2.039,99|               0,00%|          $1.912,15|       $1.912,15|  $2.039,99|\n",
      "|         43659008|        676|         -1|       229|    20170702|  20170712|   20170709|                5|            3|   $28,84|        $86,52|               0,00%|             $31,72|          $95,17|     $86,52|\n",
      "|         43659009|        676|         -1|       235|    20170702|  20170712|   20170709|                5|            1|   $28,84|        $28,84|               0,00%|             $31,72|          $31,72|     $28,84|\n",
      "|         43659010|        676|         -1|       218|    20170702|  20170712|   20170709|                5|            6|    $5,70|        $34,20|               0,00%|              $3,40|          $20,38|     $34,20|\n",
      "|         43659011|        676|         -1|       223|    20170702|  20170712|   20170709|                5|            2|    $5,19|        $10,37|               0,00%|              $5,71|          $11,41|     $10,37|\n",
      "|         43659012|        676|         -1|       220|    20170702|  20170712|   20170709|                5|            4|   $20,19|        $80,75|               0,00%|             $12,03|          $48,11|     $80,75|\n",
      "|         43660001|        117|         -1|       326|    20170705|  20170715|   20170712|                5|            1|  $419,46|       $419,46|               0,00%|            $413,15|         $413,15|    $419,46|\n",
      "|         43660002|        117|         -1|       319|    20170705|  20170715|   20170712|                5|            1|  $874,79|       $874,79|               0,00%|            $884,71|         $884,71|    $874,79|\n",
      "|         43661001|        442|         -1|       300|    20170705|  20170715|   20170712|                6|            1|  $809,76|       $809,76|               0,00%|            $699,09|         $699,09|    $809,76|\n",
      "|         43661002|        442|         -1|       296|    20170705|  20170715|   20170712|                6|            1|  $714,70|       $714,70|               0,00%|            $617,03|         $617,03|    $714,70|\n",
      "|         43661003|        442|         -1|       304|    20170705|  20170715|   20170712|                6|            2|  $714,70|     $1.429,41|               0,00%|            $617,03|       $1.234,06|  $1.429,41|\n",
      "|         43661004|        442|         -1|       223|    20170705|  20170715|   20170712|                6|            4|    $5,19|        $20,75|               0,00%|              $5,71|          $22,82|     $20,75|\n",
      "|         43661005|        442|         -1|       232|    20170705|  20170715|   20170712|                6|            4|   $28,84|       $115,36|               0,00%|             $31,72|         $126,90|    $115,36|\n",
      "|         43661006|        442|         -1|       293|    20170705|  20170715|   20170712|                6|            2|  $722,59|     $1.445,19|               0,00%|            $623,84|       $1.247,68|  $1.445,19|\n",
      "+-----------------+-----------+-----------+----------+------------+----------+-----------+-----------------+-------------+---------+--------------+--------------------+-------------------+----------------+-----------+\n",
      "only showing top 20 rows\n",
      "\n"
     ]
    }
   ],
   "source": [
    "sales_df.show()"
   ]
  },
  {
   "cell_type": "code",
   "execution_count": 39,
   "metadata": {},
   "outputs": [
    {
     "name": "stdout",
     "output_type": "stream",
     "text": [
      "+---------+--------------+--------------+\n",
      "|UnitPrice|UnitPriceClean|UnitPriceFinal|\n",
      "+---------+--------------+--------------+\n",
      "|$2.024,99|       2024,99|       2024.99|\n",
      "|$2.024,99|       2024,99|       2024.99|\n",
      "|$2.024,99|       2024,99|       2024.99|\n",
      "|$2.039,99|       2039,99|       2039.99|\n",
      "|$2.039,99|       2039,99|       2039.99|\n",
      "|$2.039,99|       2039,99|       2039.99|\n",
      "|$2.039,99|       2039,99|       2039.99|\n",
      "|   $28,84|         28,84|         28.84|\n",
      "|   $28,84|         28,84|         28.84|\n",
      "|    $5,70|          5,70|          5.70|\n",
      "|    $5,19|          5,19|          5.19|\n",
      "|   $20,19|         20,19|         20.19|\n",
      "|  $419,46|        419,46|        419.46|\n",
      "|  $874,79|        874,79|        874.79|\n",
      "|  $809,76|        809,76|        809.76|\n",
      "|  $714,70|        714,70|        714.70|\n",
      "|  $714,70|        714,70|        714.70|\n",
      "|    $5,19|          5,19|          5.19|\n",
      "|   $28,84|         28,84|         28.84|\n",
      "|  $722,59|        722,59|        722.59|\n",
      "+---------+--------------+--------------+\n",
      "only showing top 20 rows\n",
      "\n"
     ]
    }
   ],
   "source": [
    "clean_df.show()"
   ]
  }
 ],
 "metadata": {
  "kernelspec": {
   "display_name": "venv",
   "language": "python",
   "name": "python3"
  },
  "language_info": {
   "codemirror_mode": {
    "name": "ipython",
    "version": 3
   },
   "file_extension": ".py",
   "mimetype": "text/x-python",
   "name": "python",
   "nbconvert_exporter": "python",
   "pygments_lexer": "ipython3",
   "version": "3.9.13"
  },
  "orig_nbformat": 4
 },
 "nbformat": 4,
 "nbformat_minor": 2
}
