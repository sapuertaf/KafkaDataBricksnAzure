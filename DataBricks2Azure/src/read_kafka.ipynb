{
 "cells": [
  {
   "cell_type": "code",
   "execution_count": 1,
   "metadata": {},
   "outputs": [
    {
     "name": "stdout",
     "output_type": "stream",
     "text": [
      "Requirement already satisfied: kafka-python in c:\\users\\admin\\desktop\\kafkapipeline\\etlocal2kafka\\venv\\lib\\site-packages (2.0.2)\n",
      "Note: you may need to restart the kernel to use updated packages.\n"
     ]
    },
    {
     "name": "stderr",
     "output_type": "stream",
     "text": [
      "WARNING: You are using pip version 21.1.1; however, version 23.1.2 is available.\n",
      "You should consider upgrading via the 'c:\\Users\\Admin\\Desktop\\KafkaPipeline\\ETLocal2Kafka\\venv\\Scripts\\python.exe -m pip install --upgrade pip' command.\n"
     ]
    }
   ],
   "source": [
    "%pip install kafka-python"
   ]
  },
  {
   "cell_type": "code",
   "execution_count": 2,
   "metadata": {},
   "outputs": [],
   "source": [
    "from pyspark.sql.types import StructType, IntegerType,StringType,FloatType\n",
    "from pyspark.sql.functions import col, from_json\n",
    "import base64"
   ]
  },
  {
   "cell_type": "code",
   "execution_count": 3,
   "metadata": {},
   "outputs": [],
   "source": [
    "KAFKA_SERVER = \"74.249.8.248:9092\"\n",
    "KAFKA_TOPIC = \"prueba.sales-terrritory\""
   ]
  },
  {
   "cell_type": "code",
   "execution_count": 4,
   "metadata": {},
   "outputs": [],
   "source": [
    "schema = StructType()\\\n",
    "                         .add(\"SalesTerritoryKey\",IntegerType())\\\n",
    "                         .add(\"Region\",StringType())\\\n",
    "                         .add(\"Country\",StringType())\\\n",
    "                         .add(\"Group\",StringType())"
   ]
  },
  {
   "cell_type": "code",
   "execution_count": null,
   "metadata": {},
   "outputs": [],
   "source": [
    "streaming_df = spark.readStream\\\n",
    "                    .format('kafka')\\\n",
    "                    .option(\"kafka.bootstrap.servers\",KAFKA_SERVER)\\\n",
    "                    .option(\"subscribe\",KAFKA_TOPIC)\\\n",
    "                    .option(\"startingOffsets\",\"earliest\")\\\n",
    "                    .load()"
   ]
  },
  {
   "cell_type": "code",
   "execution_count": null,
   "metadata": {},
   "outputs": [],
   "source": [
    "kafka_df = streaming_df.select(from_json(col(\"value\").cast(StringType()),schema).alias(\"data\"))\n",
    "parsed_df = kafka_df.select(\"data.*\")"
   ]
  },
  {
   "cell_type": "code",
   "execution_count": null,
   "metadata": {},
   "outputs": [],
   "source": [
    "display(parsed_df)"
   ]
  }
 ],
 "metadata": {
  "kernelspec": {
   "display_name": "venv",
   "language": "python",
   "name": "python3"
  },
  "language_info": {
   "codemirror_mode": {
    "name": "ipython",
    "version": 3
   },
   "file_extension": ".py",
   "mimetype": "text/x-python",
   "name": "python",
   "nbconvert_exporter": "python",
   "pygments_lexer": "ipython3",
   "version": "3.9.5"
  },
  "orig_nbformat": 4
 },
 "nbformat": 4,
 "nbformat_minor": 2
}
